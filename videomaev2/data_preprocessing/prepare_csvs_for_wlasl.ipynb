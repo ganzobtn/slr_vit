{
 "cells": [
  {
   "cell_type": "code",
   "execution_count": 3,
   "metadata": {},
   "outputs": [],
   "source": [
    "import os\n",
    "import json\n",
    "import pickle as pkl\n",
    "import csv\n",
    "import pandas as pd\n"
   ]
  },
  {
   "cell_type": "code",
   "execution_count": null,
   "metadata": {},
   "outputs": [],
   "source": [
    "\n",
    "wlasl_videos_path ='/projects/data/wlasl_2000/wlasl_2000_sorted/'\n",
    "kinetics_path = '../datas/dgx/finetune/revised/wlasl_2000/'\n",
    "#os.makedirs(kinetics_path,exist_ok=True)\n",
    "wlasl_videos_write_path = '/projects/data/wlasl_2000/WLASL2000'"
   ]
  },
  {
   "cell_type": "code",
   "execution_count": null,
   "metadata": {},
   "outputs": [],
   "source": [
    "for i in ['dev','test','train']:\n",
    "    for clas in os.listdir(os.path.join(wlasl_videos_path,i)):\n",
    "        if ' ' in clas:\n",
    "            os.rename(os.path.join(wlasl_videos_path,i,clas),os.path.join(wlasl_videos_path,i,clas.replace(' ','_')))\n",
    "\n",
    "classes  = os.listdir(os.path.join(wlasl_videos_path,'train'))\n",
    "classes.sort()\n",
    "\n",
    "# with open('../misc/label_map_wlasl2000.txt', 'w') as f:\n",
    "#     for line in classes[:-1]:\n",
    "#         f.write(f\"{line}\\n\")\n",
    "#     f.write(f\"{classes[-1]}\")\n",
    "\n",
    "\n",
    "for i in ['dev','test','train']:\n",
    "\n",
    "    with open(os.path.join(kinetics_path,i+'.csv'),'w',newline ='') as file_write:\n",
    "        writer = csv.writer(file_write)\n",
    "\n",
    "        for clas in os.listdir(os.path.join(wlasl_videos_path,i)):\n",
    "            for video in os.listdir(os.path.join(wlasl_videos_path,i,clas)):\n",
    "                \n",
    "\n",
    "                #path = os.path.join(wlasl_videos_path,i, clas,video)\n",
    "                path = os.path.join(wlasl_videos_write_path,video)\n",
    "                label = classes.index(clas)\n",
    "\n",
    "                #print(path,label)\n",
    "                if os.path.exists(path):\n",
    "                    writer.writerow([path+' '+str(label)])"
   ]
  }
 ],
 "metadata": {
  "kernelspec": {
   "display_name": "Python 3",
   "language": "python",
   "name": "python3"
  },
  "language_info": {
   "codemirror_mode": {
    "name": "ipython",
    "version": 3
   },
   "file_extension": ".py",
   "mimetype": "text/x-python",
   "name": "python",
   "nbconvert_exporter": "python",
   "pygments_lexer": "ipython3",
   "version": "3.9.17"
  }
 },
 "nbformat": 4,
 "nbformat_minor": 2
}
