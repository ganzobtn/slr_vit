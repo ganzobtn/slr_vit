{
 "cells": [
  {
   "cell_type": "code",
   "execution_count": 3,
   "metadata": {},
   "outputs": [],
   "source": [
    "import csv\n",
    "import os\n",
    "import pandas as pd\n",
    "\n",
    "\n",
    "import argparse\n",
    "\n",
    "parser = argparse.ArgumentParser()\n",
    "\n",
    "parser.add_argument('--my_path', type=str, default='/l/users/ganzorig.batnasan/data/kinetics-dataset/k400/annotations')\n",
    "parser.add_argument('--kinetics_path',type=str,default='../datas/rtx/pretrain/bobsl/')\n",
    "parser.add_argument('--data_path',type=str,default='/media/ganzorig/53D11DCE629A37AA/Datas/bobsl/videos/')\n",
    "parser.add_argument('--print_paths',action = 'store_true')\n",
    "opt = parser.parse_args([])\n",
    "\n"
   ]
  },
  {
   "cell_type": "code",
   "execution_count": 4,
   "metadata": {},
   "outputs": [
    {
     "name": "stdout",
     "output_type": "stream",
     "text": [
      "print_path: False\n"
     ]
    }
   ],
   "source": [
    "\n",
    "\n",
    "my_path = opt.my_path\n",
    "kinetics_path = opt.kinetics_path\n",
    "os.makedirs(kinetics_path,exist_ok=True)\n",
    "data_path = opt.data_path\n",
    "print_paths = opt.print_paths\n",
    "print('print_path:',print_paths)\n"
   ]
  },
  {
   "cell_type": "code",
   "execution_count": 9,
   "metadata": {},
   "outputs": [],
   "source": [
    "import cv2"
   ]
  },
  {
   "cell_type": "code",
   "execution_count": null,
   "metadata": {},
   "outputs": [],
   "source": [
    "datas = os.listdir(data_path)\n",
    "for video in datas:\n",
    "\n",
    "    #video_path =  #row['youtube_id'] + '_'+ '0'*(6-len(str(row['time_start'])))+str(row['time_start']) + '_'+ '0'*(6-len(str(row['time_end'])))+str(row['time_end'])  + '.mp4'\n",
    "    video_path = video\n",
    "    path = os.path.join(data_path,video_path)\n",
    "\n",
    "    cap = cv2.VideoCapture(path)\n",
    "    length = int(cap.get(cv2.CAP_PROP_FRAME_COUNT))\n",
    "    width  = int(cap.get(cv2.CAP_PROP_FRAME_WIDTH))\n",
    "    height = int(cap.get(cv2.CAP_PROP_FRAME_HEIGHT))\n",
    "    fps    = cap.get(cv2.CAP_PROP_FPS)\n",
    "\n",
    "    print( length, width, height, fps )\n",
    "    #print(path,label)\n",
    "    #print(path)\n",
    "    if print_paths:\n",
    "        print(path)\n",
    "\n",
    "    if os.path.exists(path):\n",
    "        if print_paths:\n",
    "            print('exitst:',path)"
   ]
  },
  {
   "cell_type": "code",
   "execution_count": 12,
   "metadata": {},
   "outputs": [],
   "source": [
    "\n",
    "#my_path = '/projects/data/kinetics_dataset/k400/'\n",
    "for i in ['train.csv']:\n",
    "    \n",
    "    rows = []\n",
    "    with open(os.path.join(kinetics_path,i),'w',newline ='') as file_write:\n",
    "        writer = csv.writer(file_write)\n",
    "        #data = pd.read_csv(os.path.join(my_path,i),usecols=['label','youtube_id','time_start','time_end'])\n",
    "        datas = os.listdir(data_path)\n",
    "        for video in datas:\n",
    "\n",
    "            #video_path =  #row['youtube_id'] + '_'+ '0'*(6-len(str(row['time_start'])))+str(row['time_start']) + '_'+ '0'*(6-len(str(row['time_end'])))+str(row['time_end'])  + '.mp4'\n",
    "            video_path = video\n",
    "\n",
    "            path = os.path.join(data_path,video_path)\n",
    "            #print(path,label)\n",
    "            if print_paths:\n",
    "                print(path)\n",
    "\n",
    "            if os.path.exists(path):\n",
    "                if print_paths:\n",
    "                    print('exitst:',path)\n",
    "\n",
    "                # writer.writerow([path,0 , -1 , 0])#+\"\\, 0\\, -1\\, 0\"]) # video_path, 0, -1, 0\n",
    "                writer.writerow([path+' 0 -1 0'])#+\"\\, 0\\, -1\\, 0\"]) # video_path, 0, -1, 0\n",
    " "
   ]
  },
  {
   "cell_type": "code",
   "execution_count": null,
   "metadata": {},
   "outputs": [],
   "source": []
  }
 ],
 "metadata": {
  "kernelspec": {
   "display_name": "nla-slr",
   "language": "python",
   "name": "python3"
  },
  "language_info": {
   "codemirror_mode": {
    "name": "ipython",
    "version": 3
   },
   "file_extension": ".py",
   "mimetype": "text/x-python",
   "name": "python",
   "nbconvert_exporter": "python",
   "pygments_lexer": "ipython3",
   "version": "3.9.18"
  }
 },
 "nbformat": 4,
 "nbformat_minor": 2
}
