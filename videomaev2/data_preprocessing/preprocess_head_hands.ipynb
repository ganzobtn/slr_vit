{
 "cells": [
  {
   "cell_type": "code",
   "execution_count": 5,
   "metadata": {},
   "outputs": [],
   "source": [
    "import os\n",
    "import cv2\n"
   ]
  },
  {
   "cell_type": "code",
   "execution_count": 2,
   "metadata": {},
   "outputs": [],
   "source": [
    "path = '/projects/data/asl-citizen/ASL_Citizen/ASLCitizen'"
   ]
  },
  {
   "cell_type": "code",
   "execution_count": 4,
   "metadata": {},
   "outputs": [],
   "source": [
    "videos = os.listdir(path)"
   ]
  },
  {
   "cell_type": "code",
   "execution_count": 10,
   "metadata": {},
   "outputs": [
    {
     "ename": "KeyboardInterrupt",
     "evalue": "",
     "output_type": "error",
     "traceback": [
      "\u001b[0;31m---------------------------------------------------------------------------\u001b[0m",
      "\u001b[0;31mKeyboardInterrupt\u001b[0m                         Traceback (most recent call last)",
      "Cell \u001b[0;32mIn[10], line 3\u001b[0m\n\u001b[1;32m      1\u001b[0m shapes_list \u001b[38;5;241m=\u001b[39m []\n\u001b[1;32m      2\u001b[0m \u001b[38;5;28;01mfor\u001b[39;00m video \u001b[38;5;129;01min\u001b[39;00m videos:\n\u001b[0;32m----> 3\u001b[0m     cap \u001b[38;5;241m=\u001b[39m \u001b[43mcv2\u001b[49m\u001b[38;5;241;43m.\u001b[39;49m\u001b[43mVideoCapture\u001b[49m\u001b[43m(\u001b[49m\u001b[43mos\u001b[49m\u001b[38;5;241;43m.\u001b[39;49m\u001b[43mpath\u001b[49m\u001b[38;5;241;43m.\u001b[39;49m\u001b[43mjoin\u001b[49m\u001b[43m(\u001b[49m\u001b[43mpath\u001b[49m\u001b[43m,\u001b[49m\u001b[43mvideo\u001b[49m\u001b[43m)\u001b[49m\u001b[43m)\u001b[49m\n\u001b[1;32m      4\u001b[0m     ret, frame \u001b[38;5;241m=\u001b[39m cap\u001b[38;5;241m.\u001b[39mread()\n\u001b[1;32m      5\u001b[0m     \u001b[38;5;28;01mif\u001b[39;00m ret:\n",
      "\u001b[0;31mKeyboardInterrupt\u001b[0m: "
     ]
    }
   ],
   "source": [
    "shapes_list = []\n",
    "for video in videos:\n",
    "    cap = cv2.VideoCapture(os.path.join(path,video))\n",
    "    ret, frame = cap.read()\n",
    "    if ret:\n",
    "        frame_shape = frame.shape\n",
    "        aspect_ratio = frame_shape[1]/frame_shape[0]\n",
    "        # print(frame_shape[1]/frame_shape[0])\n",
    "        shapes_list.append(aspect_ratio)"
   ]
  },
  {
   "cell_type": "code",
   "execution_count": 16,
   "metadata": {},
   "outputs": [],
   "source": [
    "import multiprocessing as mp\n",
    "def get_info(video):\n",
    "    cap = cv2.VideoCapture(os.path.join(path, video))\n",
    "    ret , frame= cap.read()\n",
    "    cap.release()\n",
    "    if ret:\n",
    "        aspect_ratio = frame.shape[1]/frame.shape[0]\n",
    "\n",
    "        return frame.shape[0]\n",
    "    else:\n",
    "        return 1\n",
    "\n",
    "with mp.Pool(mp.cpu_count()) as pool:\n",
    "    size = pool.map(get_info, videos)\n"
   ]
  },
  {
   "cell_type": "code",
   "execution_count": 12,
   "metadata": {},
   "outputs": [
    {
     "data": {
      "image/png": "[encoded data removed]",
      "text/plain": [
       "<Figure size 640x480 with 1 Axes>"
      ]
     },
     "metadata": {},
     "output_type": "display_data"
    }
   ],
   "source": [
    "import matplotlib.pyplot as plt\n",
    "\n",
    "\n",
    "# Plot the histogram\n",
    "plt.hist(results, bins=100, edgecolor='black')\n",
    "\n",
    "# Add titles and labels\n",
    "plt.title('Histogram of Values')\n",
    "plt.xlabel('Value')\n",
    "plt.ylabel('Frequency')\n",
    "\n",
    "# Show the plot\n",
    "plt.show()\n"
   ]
  },
  {
   "cell_type": "code",
   "execution_count": 19,
   "metadata": {},
   "outputs": [
    {
     "name": "stdout",
     "output_type": "stream",
     "text": [
      "Histogram counts: [4, 80184, 3211]\n",
      "Bin edges: [0.75, 1.3333333333333333, 1.7777777777777777, 2.7777777777777777]\n"
     ]
    }
   ],
   "source": [
    "import numpy as np\n",
    "\n",
    "def get_histogram_from_unique_values(values):\n",
    "    \"\"\"\n",
    "    Computes the histogram from a list of values using unique values as bin edges,\n",
    "    and returns the histogram counts and bin edges as lists.\n",
    "    \n",
    "    Parameters:\n",
    "    - values: List of numerical values.\n",
    "    \n",
    "    Returns:\n",
    "    - hist_counts: List of counts for each bin.\n",
    "    - bin_edges: List of bin edges.\n",
    "    \"\"\"\n",
    "    # Compute unique values and sort them\n",
    "    unique_values = np.unique(values)\n",
    "    \n",
    "    # Add one more bin edge to cover the range properly\n",
    "    bin_edges = np.append(unique_values, unique_values[-1] + 1)\n",
    "    \n",
    "    # Compute the histogram\n",
    "    hist_counts, bin_edges = np.histogram(values, bins=bin_edges)\n",
    "    \n",
    "    # Convert to lists\n",
    "    hist_counts = hist_counts.tolist()\n",
    "    bin_edges = bin_edges.tolist()\n",
    "    \n",
    "    return hist_counts, bin_edges\n",
    "\n",
    "# Example usage\n",
    "hist_counts, bin_edges = get_histogram_from_unique_values(results)\n",
    "\n",
    "print(\"Histogram counts:\", hist_counts)\n",
    "print(\"Bin edges:\", bin_edges)\n"
   ]
  },
  {
   "cell_type": "code",
   "execution_count": 15,
   "metadata": {},
   "outputs": [
    {
     "data": {
      "text/plain": [
       "array([0.75      , 1.33333333, 1.77777778])"
      ]
     },
     "execution_count": 15,
     "metadata": {},
     "output_type": "execute_result"
    }
   ],
   "source": [
    "np.unique(results)"
   ]
  },
  {
   "cell_type": "code",
   "execution_count": 17,
   "metadata": {},
   "outputs": [
    {
     "data": {
      "text/plain": [
       "array([480, 540, 640])"
      ]
     },
     "execution_count": 17,
     "metadata": {},
     "output_type": "execute_result"
    }
   ],
   "source": [
    "np.unique(size)"
   ]
  }
 ],
 "metadata": {
  "kernelspec": {
   "display_name": "videomaev2",
   "language": "python",
   "name": "python3"
  },
  "language_info": {
   "codemirror_mode": {
    "name": "ipython",
    "version": 3
   },
   "file_extension": ".py",
   "mimetype": "text/x-python",
   "name": "python",
   "nbconvert_exporter": "python",
   "pygments_lexer": "ipython3",
   "version": "3.8.18"
  }
 },
 "nbformat": 4,
 "nbformat_minor": 2
}
